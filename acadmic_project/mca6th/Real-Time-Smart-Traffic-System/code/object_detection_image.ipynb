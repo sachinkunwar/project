{
 "cells": [
  {
   "cell_type": "code",
   "execution_count": null,
   "metadata": {
    "collapsed": true
   },
   "outputs": [],
   "source": [
    "from imageai.Detection import ObjectDetection\n",
    "import os\n",
    "import cv2\n",
    "import time\n",
    "import sys\n",
    "def forFrame(frame_number, output_array, output_count):\n",
    "    print(\"FOR FRAME \" , frame_number)\n",
    "    print(\"Output for each object : \")\n",
    "    print(\"Object Name\\t\\tPercentage Probability\\t\\t Box Points\")\n",
    "    for obj in output_array:\n",
    "        print(str(obj['name'])+\"\\t\\t\"+str(obj['percentage_probability'])+\"\\t\\t\"+str(obj['box_points']))\n",
    "    print(\"Output count for unique objects : \")\n",
    "    print(\"Object Name\\t\\tNumber of objects\")\n",
    "    for key in output_count.keys():\n",
    "        print(str(key)+\"\\t\\t\"+str(output_count[key]))\n",
    "    total_count=len(output_array)\n",
    "    print(\"Total number of objects : \",total_count)\n",
    "    print(\"------------END OF A FRAME --------------\")\n",
    "\n",
    "# def forSeconds(second_number, output_arrays, count_arrays, average_output_count):\n",
    "#     print(\"SECOND : \", second_number)\n",
    "#     print(\"Array for the outputs of each frame \", output_arrays)\n",
    "#     print(\"Array for output count for unique objects in each frame : \", count_arrays)\n",
    "#     print(\"Output average count for unique objects in the last second: \", average_output_count)\n",
    "#     print(\"------------END OF A SECOND --------------\")\n",
    "\n",
    "# def forMinute(minute_number, output_arrays, count_arrays, average_output_count):\n",
    "#     print(\"MINUTE : \", minute_number)\n",
    "#     print(\"Array for the outputs of each frame \", output_arrays)\n",
    "#     print(\"Array for output count for unique objects in each frame : \", count_arrays)\n",
    "#     print(\"Output average count for unique objects in the last minute: \", average_output_count)\n",
    "#     print(\"------------END OF A MINUTE --------------\")\n",
    "\n",
    "execution_path = os.getcwd()\n",
    "detector = ObjectDetection()\n",
    "detector.setModelTypeAsYOLOv3()\n",
    "detector.setModelPath(os.path.join(execution_path, \"yolo.h5\"))\n",
    "detector.loadModel()\n",
    "\n",
    "# detector.loadModel(detection_speed=\"fast\")\n",
    "# custom_objects = detector.CustomObjects(car=True, motorcycle=True)\n",
    "# output_array = detector.detectCustomObjectsFromImage(custom_objects=custom_objects, input_image=os.path.join(execution_path , \"image1.jpg\"), output_image_path=os.path.join(execution_path , \"image3custom.jpg\"), minimum_percentage_probability=30)\n",
    "\n",
    "# output_array = detector.detectObjectsFromImage(input_image=os.path.join(execution_path , \"image3.jpg\"), output_image_path=os.path.join(execution_path , \"image3new_nodetails.jpg\"), minimum_percentage_probability=30, display_percentage_probability=False, display_object_name=False)\n",
    "\n",
    "output_array=detector.detectObjectsFromImage(input_image=os.path.join(execution_path , \"image3.jpg\"), output_image_path=os.path.join(execution_path, \"image3new.jpg\") )\n",
    "print(output_array)\n",
    "# print(\"Object Name\\t\\tPercentage Probability\\t\\t Box Points\")\n",
    "# for obj in output_array:\n",
    "#     print(str(obj['name'])+\"\\t\\t\"+str(obj['percentage_probability'])+\"\\t\\t\"+str(obj['box_points']))\n",
    "print(\"----------------------------------------------------------------------\")"
   ]
  }
 ],
 "metadata": {
  "kernelspec": {
   "display_name": "Python 3",
   "language": "python",
   "name": "python3"
  },
  "language_info": {
   "codemirror_mode": {
    "name": "ipython",
    "version": 3
   },
   "file_extension": ".py",
   "mimetype": "text/x-python",
   "name": "python",
   "nbconvert_exporter": "python",
   "pygments_lexer": "ipython3",
   "version": "3.6.8"
  }
 },
 "nbformat": 4,
 "nbformat_minor": 2
}
