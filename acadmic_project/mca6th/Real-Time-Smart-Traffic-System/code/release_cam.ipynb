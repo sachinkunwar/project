{
 "cells": [
  {
   "cell_type": "code",
   "execution_count": null,
   "metadata": {},
   "outputs": [
    {
     "name": "stdout",
     "output_type": "stream",
     "text": [
      "After cv2.VideoCapture(0): cap.grab() --> True\n",
      "BYE\n",
      "After breaking, but before cap.release(): cap.grab() --> False\n",
      "After breaking, and after cap.release(): cap.grab() --> False\n",
      "After reopening cap with cap.open(0): cap.grab() --> True\n"
     ]
    }
   ],
   "source": [
    "import cv2\n",
    "import sys\n",
    "import time\n",
    "#print \"Before cv2.VideoCapture(0)\"\n",
    "#print cap.grab()\n",
    "cap = cv2.VideoCapture(0)\n",
    "\n",
    "print(\"After cv2.VideoCapture(0): cap.grab() --> \" + str(cap.grab()))\n",
    "while True:\n",
    "    ret, frame = cap.read()\n",
    "    if frame is None:\n",
    "        print(\"BYE\")\n",
    "        break\n",
    "\n",
    "    cv2.imshow('frame', frame)\n",
    "    cap.release()\n",
    "    cap=cv2.VideoCapture(1)\n",
    "\n",
    "print(\"After breaking, but before cap.release(): cap.grab() --> \" + str(cap.grab()))\n",
    "\n",
    "cap.release()\n",
    "time.sleep(10)\n",
    "print(\"After breaking, and after cap.release(): cap.grab() --> \" + str(cap.grab()))\n",
    "\n",
    "cap.open(0)\n",
    "print(\"After reopening cap with cap.open(0): cap.grab() --> \" + str(cap.grab()))\n",
    "\n",
    "cv2.destroyAllWindows()\n",
    "\n",
    "while True:\n",
    "    cv2.waitKey(1)"
   ]
  },
  {
   "cell_type": "code",
   "execution_count": null,
   "metadata": {
    "collapsed": true
   },
   "outputs": [],
   "source": []
  },
  {
   "cell_type": "code",
   "execution_count": null,
   "metadata": {
    "collapsed": true
   },
   "outputs": [],
   "source": []
  }
 ],
 "metadata": {
  "kernelspec": {
   "display_name": "Python 3",
   "language": "python",
   "name": "python3"
  },
  "language_info": {
   "codemirror_mode": {
    "name": "ipython",
    "version": 3
   },
   "file_extension": ".py",
   "mimetype": "text/x-python",
   "name": "python",
   "nbconvert_exporter": "python",
   "pygments_lexer": "ipython3",
   "version": "3.6.8"
  }
 },
 "nbformat": 4,
 "nbformat_minor": 2
}
