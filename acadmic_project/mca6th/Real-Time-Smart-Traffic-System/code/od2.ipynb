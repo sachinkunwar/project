{
 "cells": [
  {
   "cell_type": "code",
   "execution_count": 3,
   "metadata": {},
   "outputs": [
    {
     "name": "stdout",
     "output_type": "stream",
     "text": [
      "traffic light  :  37.866395711898804  :  (142, 89, 166, 157)\n",
      "Object's image saved in /home/sachin/imagerecog/image1new.jpeg-objects/traffic light-1.jpg\n",
      "--------------------------------\n",
      "traffic light  :  57.40169882774353  :  (102, 16, 148, 129)\n",
      "Object's image saved in /home/sachin/imagerecog/image1new.jpeg-objects/traffic light-2.jpg\n",
      "--------------------------------\n",
      "truck  :  90.8550500869751  :  (469, 163, 762, 376)\n",
      "Object's image saved in /home/sachin/imagerecog/image1new.jpeg-objects/truck-3.jpg\n",
      "--------------------------------\n",
      "bus  :  96.51610255241394  :  (374, 149, 491, 322)\n",
      "Object's image saved in /home/sachin/imagerecog/image1new.jpeg-objects/bus-4.jpg\n",
      "--------------------------------\n",
      "bus  :  99.83268976211548  :  (153, 70, 384, 321)\n",
      "Object's image saved in /home/sachin/imagerecog/image1new.jpeg-objects/bus-5.jpg\n",
      "--------------------------------\n",
      "bicycle  :  47.59823679924011  :  (313, 252, 356, 354)\n",
      "Object's image saved in /home/sachin/imagerecog/image1new.jpeg-objects/bicycle-6.jpg\n",
      "--------------------------------\n",
      "person  :  32.66534507274628  :  (41, 229, 62, 305)\n",
      "Object's image saved in /home/sachin/imagerecog/image1new.jpeg-objects/person-7.jpg\n",
      "--------------------------------\n",
      "person  :  73.49357604980469  :  (311, 234, 355, 337)\n",
      "Object's image saved in /home/sachin/imagerecog/image1new.jpeg-objects/person-8.jpg\n",
      "--------------------------------\n",
      "person  :  89.48697447776794  :  (21, 224, 48, 292)\n",
      "Object's image saved in /home/sachin/imagerecog/image1new.jpeg-objects/person-9.jpg\n",
      "--------------------------------\n",
      "person  :  93.7789797782898  :  (51, 223, 81, 320)\n",
      "Object's image saved in /home/sachin/imagerecog/image1new.jpeg-objects/person-10.jpg\n",
      "--------------------------------\n",
      "person  :  98.92159104347229  :  (105, 212, 141, 350)\n",
      "Object's image saved in /home/sachin/imagerecog/image1new.jpeg-objects/person-11.jpg\n",
      "--------------------------------\n",
      "person  :  99.69530701637268  :  (137, 204, 183, 370)\n",
      "Object's image saved in /home/sachin/imagerecog/image1new.jpeg-objects/person-12.jpg\n",
      "--------------------------------\n"
     ]
    }
   ],
   "source": [
    "from imageai.Detection import ObjectDetection\n",
    "import os\n",
    "\n",
    "\n",
    "execution_path = os.getcwd()\n",
    "\n",
    "detector = ObjectDetection()\n",
    "detector.setModelTypeAsYOLOv3()\n",
    "detector.setModelPath( os.path.join(execution_path , \"yolo.h5\"))\n",
    "detector.loadModel()\n",
    "\n",
    "detections, objects_path = detector.detectObjectsFromImage(input_image=os.path.join(execution_path , \"image1.jpg\"), output_image_path=os.path.join(execution_path , \"image1new.jpeg\"), minimum_percentage_probability=30,  extract_detected_objects=True)\n",
    "\n",
    "for eachObject, eachObjectPath in zip(detections, objects_path):\n",
    "    print(eachObject[\"name\"] , \" : \" , eachObject[\"percentage_probability\"], \" : \", eachObject[\"box_points\"] )\n",
    "    print(\"Object's image saved in \" + eachObjectPath)\n",
    "    print(\"--------------------------------\")"
   ]
  },
  {
   "cell_type": "code",
   "execution_count": null,
   "metadata": {
    "collapsed": true
   },
   "outputs": [],
   "source": []
  }
 ],
 "metadata": {
  "kernelspec": {
   "display_name": "Python 3",
   "language": "python",
   "name": "python3"
  },
  "language_info": {
   "codemirror_mode": {
    "name": "ipython",
    "version": 3
   },
   "file_extension": ".py",
   "mimetype": "text/x-python",
   "name": "python",
   "nbconvert_exporter": "python",
   "pygments_lexer": "ipython3",
   "version": "3.6.8"
  }
 },
 "nbformat": 4,
 "nbformat_minor": 2
}
