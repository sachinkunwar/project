{
 "cells": [
  {
   "cell_type": "code",
   "execution_count": null,
   "metadata": {},
   "outputs": [],
   "source": [
    "from imageai.Detection import VideoObjectDetection\n",
    "import os\n",
    "import cv2\n",
    "\n",
    "# def forFrame(frame_number, output_array, output_count):\n",
    "#     print(\"FOR FRAME \" , frame_number)\n",
    "#     print(\"Output for each object : \")\n",
    "#     print(\"Object Name\\t\\tPercentage Probability\\t\\t Box Points\")\n",
    "#     for obj in output_array:\n",
    "#         print(str(obj['name'])+\"\\t\\t\"+str(obj['percentage_probability'])+\"\\t\\t\"+str(obj['box_points']))\n",
    "#     print(\"Output count for unique objects : \")\n",
    "#     print(\"Object Name\\t\\tNumber of objects\")\n",
    "#     for key in output_count.keys():\n",
    "#         print(str(key)+\"\\t\\t\"+str(output_count[key]))\n",
    "#     total_count=len(output_array)\n",
    "#     print(\"Total number of objects : \",total_count)\n",
    "#     print(\"------------END OF A FRAME --------------\")\n",
    "    \n",
    "def forFrame(frame_number, output_array, output_count):\n",
    "    print(\"FOR FRAME \" , frame_number)\n",
    "    print(\"Output for each object : \", output_array)\n",
    "    print(\"Output count for unique objects : \", output_count)\n",
    "    print(\"------------END OF A FRAME --------------\")\n",
    "\n",
    "def forSeconds(second_number, output_arrays, count_arrays, average_output_count):\n",
    "    print(\"SECOND : \", second_number)\n",
    "    print(\"Array for the outputs of each frame \", output_arrays)\n",
    "    print(\"Array for output count for unique objects in each frame : \", count_arrays)\n",
    "    print(\"Output average count for unique objects in the last second: \", average_output_count)\n",
    "    print(\"------------END OF A SECOND --------------\")\n",
    "\n",
    "def forMinute(minute_number, output_arrays, count_arrays, average_output_count):\n",
    "    print(\"MINUTE : \", minute_number)\n",
    "    print(\"Array for the outputs of each frame \", output_arrays)\n",
    "    print(\"Array for output count for unique objects in each frame : \", count_arrays)\n",
    "    print(\"Output average count for unique objects in the last minute: \", average_output_count)\n",
    "    print(\"------------END OF A MINUTE --------------\")\n",
    "\n",
    "# camera=cv2.VideoCapture(0)\n",
    "execution_path = os.getcwd() \n",
    "video_detector = VideoObjectDetection()\n",
    "video_detector.setModelTypeAsYOLOv3()\n",
    "video_detector.setModelPath(os.path.join(execution_path, \"yolo.h5\"))\n",
    "video_detector.loadModel(detection_speed=\"normal\")#fast, fater, fastest, flash\n",
    "\n",
    "# video_path = video_detector.detectObjectsFromVideo(camera_input=camera,output_file_path=os.path.join(execution_path, \"camera_detected_video2\"), frames_per_second=20, log_progress=True, minimum_percentage_probability=40)\n",
    "\n",
    "\n",
    "video_path =video_detector.detectObjectsFromVideo(input_file_path=os.path.join(execution_path, \"traffic.mkv\"), output_file_path=os.path.join(execution_path, \"traffic_detected45\") ,  frames_per_second=10, per_second_function=forSeconds, per_frame_function = forFrame, per_minute_function= forMinute, minimum_percentage_probability=30)\n",
    "\n",
    "print(\"Video Path :\"+str(video_path))"
   ]
  },
  {
   "cell_type": "code",
   "execution_count": null,
   "metadata": {
    "collapsed": true
   },
   "outputs": [],
   "source": []
  }
 ],
 "metadata": {
  "kernelspec": {
   "display_name": "Python 3",
   "language": "python",
   "name": "python3"
  },
  "language_info": {
   "codemirror_mode": {
    "name": "ipython",
    "version": 3
   },
   "file_extension": ".py",
   "mimetype": "text/x-python",
   "name": "python",
   "nbconvert_exporter": "python",
   "pygments_lexer": "ipython3",
   "version": "3.6.8"
  }
 },
 "nbformat": 4,
 "nbformat_minor": 2
}
